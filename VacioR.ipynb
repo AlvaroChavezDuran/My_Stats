{
  "nbformat": 4,
  "nbformat_minor": 0,
  "metadata": {
    "colab": {
      "provenance": [],
      "authorship_tag": "ABX9TyNPMM2ImMbWuNaXtBEYnbT2",
      "include_colab_link": true
    },
    "kernelspec": {
      "name": "ir",
      "display_name": "R"
    },
    "language_info": {
      "name": "R"
    }
  },
  "cells": [
    {
      "cell_type": "markdown",
      "metadata": {
        "id": "view-in-github",
        "colab_type": "text"
      },
      "source": [
        "<a href=\"https://colab.research.google.com/github/AlvaroChavezDuran/My_Stats/blob/main/VacioR.ipynb\" target=\"_parent\"><img src=\"https://colab.research.google.com/assets/colab-badge.svg\" alt=\"Open In Colab\"/></a>"
      ]
    },
    {
      "cell_type": "markdown",
      "metadata": {
        "id": "pY5cHpC3Cun0"
      },
      "source": [
        "# Código Vacío R"
      ]
    },
    {
      "cell_type": "markdown",
      "metadata": {
        "id": "kMX-XFkqE4Q8"
      },
      "source": [
        "# Consultando la versión de R"
      ]
    },
    {
      "cell_type": "code",
      "metadata": {
        "id": "yxhxB9iwE48g",
        "colab": {
          "base_uri": "https://localhost:8080/",
          "height": 277
        },
        "outputId": "bb36f870-7d8e-47e4-fc09-78c43ac80f36"
      },
      "source": [
        "version"
      ],
      "execution_count": 1,
      "outputs": [
        {
          "output_type": "display_data",
          "data": {
            "text/plain": [
              "               _                           \n",
              "platform       x86_64-pc-linux-gnu         \n",
              "arch           x86_64                      \n",
              "os             linux-gnu                   \n",
              "system         x86_64, linux-gnu           \n",
              "status                                     \n",
              "major          4                           \n",
              "minor          5.1                         \n",
              "year           2025                        \n",
              "month          06                          \n",
              "day            13                          \n",
              "svn rev        88306                       \n",
              "language       R                           \n",
              "version.string R version 4.5.1 (2025-06-13)\n",
              "nickname       Great Square Root           "
            ]
          },
          "metadata": {}
        }
      ]
    }
  ]
}